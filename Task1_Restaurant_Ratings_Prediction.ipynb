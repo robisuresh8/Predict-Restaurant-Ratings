{
 "cells": [
  {
   "cell_type": "markdown",
   "id": "1894ed40",
   "metadata": {},
   "source": [
    "\n",
    "# Task 1: Predict Restaurant Ratings\n",
    "\n",
    "This notebook implements Task 1 of the Machine Learning Internship project\n"
   ]
  },
  {
   "cell_type": "code",
   "execution_count": null,
   "id": "3739795a",
   "metadata": {},
   "outputs": [],
   "source": [
    "\n",
    "# Import necessary libraries\n",
    "import pandas as pd\n",
    "import numpy as np\n",
    "import matplotlib.pyplot as plt\n",
    "import seaborn as sns\n",
    "\n",
    "from sklearn.model_selection import train_test_split\n",
    "from sklearn.preprocessing import LabelEncoder\n",
    "from sklearn.impute import SimpleImputer\n",
    "from sklearn.linear_model import LinearRegression\n",
    "from sklearn.tree import DecisionTreeRegressor\n",
    "from sklearn.metrics import mean_squared_error, r2_score\n"
   ]
  },
  {
   "cell_type": "code",
   "execution_count": null,
   "id": "dc57acc3",
   "metadata": {},
   "outputs": [],
   "source": [
    "\n",
    "# Load the dataset\n",
    "df = pd.read_csv(r'C:\\Users\\robis\\archive\\Dataset .csv')\n",
    "\n",
    "# Quick overview of the data\n",
    "print(df.head())\n",
    "print(df.info())\n",
    "print(df.describe())\n"
   ]
  },
  {
   "cell_type": "code",
   "execution_count": null,
   "id": "de5f466f",
   "metadata": {},
   "outputs": [],
   "source": [
    "\n",
    "# --- Data Preprocessing ---\n",
    "\n",
    "# 1. Handle missing values\n",
    "num_imputer = SimpleImputer(strategy='mean')\n",
    "cat_imputer = SimpleImputer(strategy='most_frequent')\n",
    "\n",
    "# Separate numeric and categorical columns\n",
    "numeric_cols = df.select_dtypes(include=[np.number]).columns\n",
    "categorical_cols = df.select_dtypes(include=['object']).columns\n",
    "\n",
    "# Impute missing values\n",
    "df[numeric_cols] = num_imputer.fit_transform(df[numeric_cols])\n",
    "df[categorical_cols] = cat_imputer.fit_transform(df[categorical_cols])\n",
    "\n",
    "# 2. Encode categorical variables\n",
    "le = LabelEncoder()\n",
    "for col in categorical_cols:\n",
    "    df[col] = le.fit_transform(df[col])\n",
    "\n",
    "# Check if missing values still exist\n",
    "print(df.isnull().sum())\n"
   ]
  },
  {
   "cell_type": "code",
   "execution_count": null,
   "id": "624d51fd",
   "metadata": {},
   "outputs": [],
   "source": [
    "\n",
    "# --- Feature Selection ---\n",
    "\n",
    "# Set target column\n",
    "target_column = 'Aggregate rating'  # Change if your column name is different!\n",
    "\n",
    "X = df.drop(columns=[target_column])\n",
    "y = df[target_column]\n",
    "\n",
    "# --- Split data into train and test sets ---\n",
    "X_train, X_test, y_train, y_test = train_test_split(X, y, test_size=0.2, random_state=42)\n"
   ]
  },
  {
   "cell_type": "code",
   "execution_count": null,
   "id": "3ad67791",
   "metadata": {},
   "outputs": [],
   "source": [
    "\n",
    "# --- Model Training ---\n",
    "\n",
    "# Linear Regression Model\n",
    "lr_model = LinearRegression()\n",
    "lr_model.fit(X_train, y_train)\n",
    "\n",
    "# Decision Tree Regressor\n",
    "dt_model = DecisionTreeRegressor(random_state=42)\n",
    "dt_model.fit(X_train, y_train)\n"
   ]
  },
  {
   "cell_type": "code",
   "execution_count": null,
   "id": "4c0e1bf1",
   "metadata": {},
   "outputs": [],
   "source": [
    "\n",
    "# --- Model Evaluation ---\n",
    "\n",
    "# Linear Regression predictions\n",
    "lr_preds = lr_model.predict(X_test)\n",
    "lr_mse = mean_squared_error(y_test, lr_preds)\n",
    "lr_r2 = r2_score(y_test, lr_preds)\n",
    "\n",
    "# Decision Tree predictions\n",
    "dt_preds = dt_model.predict(X_test)\n",
    "dt_mse = mean_squared_error(y_test, dt_preds)\n",
    "dt_r2 = r2_score(y_test, dt_preds)\n",
    "\n",
    "# --- Results ---\n",
    "\n",
    "print(\"\\n--- Linear Regression Performance ---\")\n",
    "print(f\"Mean Squared Error: {lr_mse:.2f}\")\n",
    "print(f\"R-squared: {lr_r2:.2f}\")\n",
    "\n",
    "print(\"\\n--- Decision Tree Regression Performance ---\")\n",
    "print(f\"Mean Squared Error: {dt_mse:.2f}\")\n",
    "print(f\"R-squared: {dt_r2:.2f}\")\n"
   ]
  },
  {
   "cell_type": "code",
   "execution_count": null,
   "id": "ce5ca0f5",
   "metadata": {},
   "outputs": [],
   "source": [
    "\n",
    "# --- Feature Importance (Decision Tree) ---\n",
    "feature_importances = pd.Series(dt_model.feature_importances_, index=X.columns)\n",
    "feature_importances.nlargest(10).plot(kind='barh', figsize=(8,6), color='skyblue')\n",
    "plt.title(\"Top 10 Influential Features (Decision Tree)\")\n",
    "plt.xlabel(\"Feature Importance Score\")\n",
    "plt.ylabel(\"Features\")\n",
    "plt.show()\n"
   ]
  }
 ],
 "metadata": {
  "kernelspec": {
   "display_name": "Python [conda env:base] *",
   "language": "python",
   "name": "conda-base-py"
  },
  "language_info": {
   "codemirror_mode": {
    "name": "ipython",
    "version": 3
   },
   "file_extension": ".py",
   "mimetype": "text/x-python",
   "name": "python",
   "nbconvert_exporter": "python",
   "pygments_lexer": "ipython3",
   "version": "3.12.3"
  }
 },
 "nbformat": 4,
 "nbformat_minor": 5
}
