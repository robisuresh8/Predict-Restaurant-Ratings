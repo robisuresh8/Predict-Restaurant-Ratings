{
 "cells": [
  {
   "cell_type": "markdown",
   "id": "1301694d",
   "metadata": {},
   "source": [
    "\n",
    "# Task 4: Location-based Analysis\n",
    "\n",
    "This notebook implements **Task 4** of the Machine Learning Internship project:\n"
   ]
  },
  {
   "cell_type": "code",
   "execution_count": null,
   "id": "cc685cb9",
   "metadata": {},
   "outputs": [],
   "source": [
    "\n",
    "# Import libraries\n",
    "import pandas as pd\n",
    "import numpy as np\n",
    "import matplotlib.pyplot as plt\n",
    "import seaborn as sns\n"
   ]
  },
  {
   "cell_type": "code",
   "execution_count": null,
   "id": "d1bee9fd",
   "metadata": {},
   "outputs": [],
   "source": [
    "\n",
    "# Load the dataset\n",
    "df = pd.read_csv(r'C:\\Users\\robis\\archive\\Dataset .csv')\n",
    "\n",
    "# Quick overview\n",
    "print(df.head())\n"
   ]
  },
  {
   "cell_type": "code",
   "execution_count": null,
   "id": "316edaaa",
   "metadata": {},
   "outputs": [],
   "source": [
    "\n",
    "# --- Location Visualization ---\n",
    "\n",
    "# Scatter plot of lat/lon\n",
    "plt.figure(figsize=(8,6))\n",
    "plt.scatter(df['Longitude'], df['Latitude'], alpha=0.5)\n",
    "plt.title('Restaurant Distribution (Lat/Lon)')\n",
    "plt.xlabel('Longitude')\n",
    "plt.ylabel('Latitude')\n",
    "plt.show()\n"
   ]
  },
  {
   "cell_type": "code",
   "execution_count": null,
   "id": "cc8f7aeb",
   "metadata": {},
   "outputs": [],
   "source": [
    "\n",
    "# --- Group by City/Locality ---\n",
    "\n",
    "# Group by City and count restaurants\n",
    "city_counts = df['City'].value_counts()\n",
    "\n",
    "# Plot\n",
    "city_counts.head(10).plot(kind='barh', color='orange')\n",
    "plt.title('Top 10 Cities by Number of Restaurants')\n",
    "plt.xlabel('Number of Restaurants')\n",
    "plt.ylabel('City')\n",
    "plt.show()\n"
   ]
  },
  {
   "cell_type": "code",
   "execution_count": null,
   "id": "26dec887",
   "metadata": {},
   "outputs": [],
   "source": [
    "\n",
    "# --- Statistics by City ---\n",
    "\n",
    "# Example: Average Aggregate Rating by City\n",
    "city_avg_rating = df.groupby('City')['Aggregate rating'].mean().sort_values(ascending=False)\n",
    "\n",
    "# Plot\n",
    "city_avg_rating.head(10).plot(kind='barh', color='green')\n",
    "plt.title('Top 10 Cities by Avg Restaurant Rating')\n",
    "plt.xlabel('Average Rating')\n",
    "plt.ylabel('City')\n",
    "plt.show()\n"
   ]
  }
 ],
 "metadata": {
  "kernelspec": {
   "display_name": "Python [conda env:base] *",
   "language": "python",
   "name": "conda-base-py"
  },
  "language_info": {
   "codemirror_mode": {
    "name": "ipython",
    "version": 3
   },
   "file_extension": ".py",
   "mimetype": "text/x-python",
   "name": "python",
   "nbconvert_exporter": "python",
   "pygments_lexer": "ipython3",
   "version": "3.12.3"
  }
 },
 "nbformat": 4,
 "nbformat_minor": 5
}
