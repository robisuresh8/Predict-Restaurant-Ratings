{
 "cells": [
  {
   "cell_type": "markdown",
   "id": "a9b2d6a4",
   "metadata": {},
   "source": [
    "\n",
    "# Task 3: Cuisine Classification\n",
    "\n",
    "This notebook implements **Task 3** of the Machine Learning Internship project:\n",
    "\n"
   ]
  },
  {
   "cell_type": "code",
   "execution_count": null,
   "id": "89aad655",
   "metadata": {},
   "outputs": [],
   "source": [
    "\n",
    "# Import libraries\n",
    "import pandas as pd\n",
    "import numpy as np\n",
    "from sklearn.model_selection import train_test_split\n",
    "from sklearn.preprocessing import LabelEncoder\n",
    "from sklearn.impute import SimpleImputer\n",
    "from sklearn.ensemble import RandomForestClassifier\n",
    "from sklearn.metrics import accuracy_score, classification_report\n"
   ]
  },
  {
   "cell_type": "code",
   "execution_count": null,
   "id": "c856a5a4",
   "metadata": {},
   "outputs": [],
   "source": [
    "\n",
    "# Load the dataset\n",
    "df = pd.read_csv(r'C:\\Users\\robis\\archive\\Dataset .csv')\n",
    "\n",
    "# Quick overview\n",
    "print(df.head())\n"
   ]
  },
  {
   "cell_type": "code",
   "execution_count": null,
   "id": "81d4ecc9",
   "metadata": {},
   "outputs": [],
   "source": [
    "\n",
    "# --- Preprocessing ---\n",
    "\n",
    "# Simplify: Use first cuisine if multiple cuisines listed\n",
    "df['Cuisines'] = df['Cuisines'].fillna('Unknown').apply(lambda x: x.split(',')[0])\n",
    "\n",
    "# Target variable\n",
    "target_column = 'Cuisines'\n",
    "\n",
    "# Features\n",
    "X = df.drop(columns=[target_column])\n",
    "X = X.select_dtypes(include=[np.number])  # Use only numerical features for simplicity\n",
    "\n",
    "# Encode target\n",
    "le = LabelEncoder()\n",
    "y = le.fit_transform(df[target_column])\n",
    "\n",
    "# Split\n",
    "X_train, X_test, y_train, y_test = train_test_split(X, y, test_size=0.2, random_state=42)\n"
   ]
  },
  {
   "cell_type": "code",
   "execution_count": null,
   "id": "4e3c49e8",
   "metadata": {},
   "outputs": [],
   "source": [
    "\n",
    "# --- Model Training ---\n",
    "\n",
    "clf = RandomForestClassifier(n_estimators=100, random_state=42)\n",
    "clf.fit(X_train, y_train)\n",
    "\n",
    "# Predictions\n",
    "y_pred = clf.predict(X_test)\n",
    "\n",
    "# Evaluation\n",
    "print(f\"Accuracy: {accuracy_score(y_test, y_pred):.2f}\")\n",
    "print(\"\\nClassification Report:\")\n",
    "print(classification_report(y_test, y_pred, target_names=le.classes_))\n"
   ]
  }
 ],
 "metadata": {
  "kernelspec": {
   "display_name": "Python [conda env:base] *",
   "language": "python",
   "name": "conda-base-py"
  },
  "language_info": {
   "codemirror_mode": {
    "name": "ipython",
    "version": 3
   },
   "file_extension": ".py",
   "mimetype": "text/x-python",
   "name": "python",
   "nbconvert_exporter": "python",
   "pygments_lexer": "ipython3",
   "version": "3.12.3"
  }
 },
 "nbformat": 4,
 "nbformat_minor": 5
}
