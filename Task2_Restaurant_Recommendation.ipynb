{
 "cells": [
  {
   "cell_type": "markdown",
   "id": "96edf6aa",
   "metadata": {},
   "source": [
    "\n",
    "# Task 2: Restaurant Recommendation System\n",
    "\n",
    "This notebook implements **Task 2** of the Machine Learning Internship project:\n",
    "\n"
   ]
  },
  {
   "cell_type": "code",
   "execution_count": null,
   "id": "a8ac5655",
   "metadata": {},
   "outputs": [],
   "source": [
    "\n",
    "# Import libraries\n",
    "import pandas as pd\n",
    "import numpy as np\n",
    "from sklearn.preprocessing import LabelEncoder\n",
    "from sklearn.metrics.pairwise import cosine_similarity\n",
    "from sklearn.feature_extraction.text import TfidfVectorizer\n"
   ]
  },
  {
   "cell_type": "code",
   "execution_count": null,
   "id": "eb66de2d",
   "metadata": {},
   "outputs": [],
   "source": [
    "\n",
    "# Load the dataset\n",
    "df = pd.read_csv(r'C:\\Users\\robis\\archive\\Dataset .csv')\n",
    "\n",
    "# Quick overview\n",
    "print(df.head())\n"
   ]
  },
  {
   "cell_type": "code",
   "execution_count": null,
   "id": "db64b08c",
   "metadata": {},
   "outputs": [],
   "source": [
    "\n",
    "# --- Preprocessing ---\n",
    "# Handle missing values (simplified)\n",
    "df.fillna('', inplace=True)\n",
    "\n",
    "# Example: Using 'Cuisines' and 'Price range' as features for recommendation\n",
    "df['Cuisines'] = df['Cuisines'].astype(str)\n",
    "\n",
    "# Combine features into a single string (Content-Based)\n",
    "df['content'] = df['Cuisines'] + ' PriceRange_' + df['Price range'].astype(str)\n",
    "\n",
    "# Vectorize content using TF-IDF\n",
    "vectorizer = TfidfVectorizer()\n",
    "tfidf_matrix = vectorizer.fit_transform(df['content'])\n",
    "\n",
    "# Compute cosine similarity\n",
    "cosine_sim = cosine_similarity(tfidf_matrix, tfidf_matrix)\n",
    "\n",
    "# Function to get recommendations\n",
    "def recommend_restaurants(restaurant_index, top_n=5):\n",
    "    similarity_scores = list(enumerate(cosine_sim[restaurant_index]))\n",
    "    similarity_scores = sorted(similarity_scores, key=lambda x: x[1], reverse=True)\n",
    "    similarity_scores = similarity_scores[1:top_n+1]\n",
    "    restaurant_indices = [i[0] for i in similarity_scores]\n",
    "    return df.iloc[restaurant_indices][['Restaurant Name', 'Cuisines', 'Price range', 'Aggregate rating']]\n",
    "\n",
    "# Example usage\n",
    "sample_index = 10  # You can change this index to test\n",
    "print(\"Base Restaurant:\")\n",
    "print(df.iloc[sample_index][['Restaurant Name', 'Cuisines', 'Price range', 'Aggregate rating']])\n",
    "\n",
    "print(\"\\nRecommended Restaurants:\")\n",
    "print(recommend_restaurants(sample_index))\n"
   ]
  }
 ],
 "metadata": {
  "kernelspec": {
   "display_name": "Python [conda env:base] *",
   "language": "python",
   "name": "conda-base-py"
  },
  "language_info": {
   "codemirror_mode": {
    "name": "ipython",
    "version": 3
   },
   "file_extension": ".py",
   "mimetype": "text/x-python",
   "name": "python",
   "nbconvert_exporter": "python",
   "pygments_lexer": "ipython3",
   "version": "3.12.3"
  }
 },
 "nbformat": 4,
 "nbformat_minor": 5
}
